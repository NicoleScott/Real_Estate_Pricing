{
 "cells": [
  {
   "cell_type": "markdown",
   "metadata": {},
   "source": [
    "# Project 2:  Ames, IA Housing Price Prediction"
   ]
  },
  {
   "cell_type": "markdown",
   "metadata": {},
   "source": [
    "## Problem Statement\n",
    "\n",
    "You are tasked with creating a regression model based on the Ames Housing Dataset. This model will predict the price of a house at sale.\n"
   ]
  },
  {
   "cell_type": "markdown",
   "metadata": {},
   "source": [
    "## Executive Summary\n",
    "\n",
    "This technical report includes statistical analysis and data visualizations to illustrate the process of creating a model and predicting a sale price.\n",
    "\n",
    "### Contents:\n",
    "\n",
    "- [EDA, Modeling and Kaggle Steps](02_Ames_EDA_Modeling_and_Kaggle.ipynb)\n",
    "\n"
   ]
  },
  {
   "cell_type": "markdown",
   "metadata": {},
   "source": [
    "# Technical Approach"
   ]
  },
  {
   "cell_type": "markdown",
   "metadata": {},
   "source": [
    "### The following is a roadmap created to outline the process for creating a model and prediction....\n",
    "- create (import) two dataframes (train & test)\n",
    "- assess nulls (distribution across columns)\n",
    "- assess data types (objects/categories)\n",
    "- assess distribution of sales price target (incl. min/max)\n",
    "- decide cleaning strategy for:\n",
    "    - nulls: impute mean & median vs fillna, drop rows, drop columns\n",
    "    - objects: transform categories (\"one-hot\"/.get_dummies)\n",
    "    - corrupted values: strip, replace, etc.\n",
    "    - rename columns\n",
    "    - look for outliers\n",
    "    - look for correlation\n",
    "    - export EACH cleaned dataframe to .csv\n",
    "    - feature engineering\n",
    "      plotting: observe correlations\n",
    "      score highly correlated features\n",
    "      baseline r2 (cross val) for X and y\n",
    "      create \"interaction term\"\n",
    "      create \"feature matrix\"\n",
    "\n",
    "- modeling\n",
    "    create \"feature matrix\" \n",
    "    generate/export new dataframe...\n",
    "    define X [features] and y [target]\n",
    "    TRAIN/TEST SPLIT...\n",
    "    STANDARDIZE (Scaling)\n",
    "    Instantiate evaluation models (linear regression, lasso, ridge)\n",
    "    REGULARIZE (cross validate all three model scores; choose best)\n",
    "    Use selected model to:\n",
    "    - fit TRAIN data\n",
    "    - score / compare TRAIN vs. TEST\n",
    "    - predict (using X_TEST)\n",
    "    - generate r2 score (using y_test - prediction)\n",
    "\n",
    "- analysis / refining / recommendations\n",
    "    determine if model is good / \"over-fit\" / \"under-fit\"\n",
    "    plot findings\n",
    "    summarize/report out findings"
   ]
  },
  {
   "cell_type": "markdown",
   "metadata": {},
   "source": [
    "#### Business Recommendations\n",
    "- Which features appear to add the most value to a home?\n",
    "- Which features hurt the value of a home the most?\n",
    "- What are things that homeowners could improve in their homes to increase the value?\n",
    "- What neighborhoods seem like they might be a good investment?\n",
    "- Do you feel that this model will generalize to other cities? How could you revise your model to make it more universal OR what date would you need from another city to make a comparable model?"
   ]
  },
  {
   "cell_type": "code",
   "execution_count": null,
   "metadata": {},
   "outputs": [],
   "source": []
  }
 ],
 "metadata": {
  "anaconda-cloud": {},
  "kernelspec": {
   "display_name": "Python 3",
   "language": "python",
   "name": "python3"
  },
  "language_info": {
   "codemirror_mode": {
    "name": "ipython",
    "version": 3
   },
   "file_extension": ".py",
   "mimetype": "text/x-python",
   "name": "python",
   "nbconvert_exporter": "python",
   "pygments_lexer": "ipython3",
   "version": "3.6.8"
  }
 },
 "nbformat": 4,
 "nbformat_minor": 2
}
